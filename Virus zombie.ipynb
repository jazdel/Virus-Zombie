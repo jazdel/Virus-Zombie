{
 "cells": [
  {
   "cell_type": "markdown",
   "metadata": {},
   "source": [
    "## Modelo ecuaciones diferenciales\n",
    "\n",
    "\\begin{array}{l}{\\cdot H^{\\prime}=b H-\\left(d+\\left(\\frac{r}{K}\\right) H\\right) H-\\propto H Z} \\\\ {\\cdot Z^{\\prime}=\\alpha H Z-\\beta H Z+\\frac{1}{2}\\left(d+\\left(\\frac{r}{K}\\right) H\\right) H} \\\\ {\\cdot R^{\\prime}=\\beta H Z+\\frac{1}{2}\\left(d+\\left(\\frac{r}{K}\\right) H\\right) H}\\end{array}\n"
   ]
  },
  {
   "cell_type": "markdown",
   "metadata": {},
   "source": [
    "# Variables:\n",
    "\n",
    "\n",
    "H población humana\n",
    "\n",
    "\n",
    "Z población Zombie\n",
    "\n",
    "\n",
    "R población removida\n",
    "\n",
    "# Parámetros :\n",
    "\n",
    "\n",
    "a = constante de proporcionalidad de la tasa de muerte modificada \n",
    "\n",
    "\n",
    "c= constante de proporcionalidad de la tasa de natalidad modificada\n",
    "\n",
    "\n",
    "b =tasa de natalidad humana natural = 4%\n",
    "\n",
    "\n",
    "d =tasa de muerte humana natural = 6%\n",
    "\n",
    "\n",
    "r =tasa de reproducción natural = 1%\n",
    "\n",
    "\n",
    "K =capacidad de carga de la población humana 10,000 millones \n",
    "\n",
    "\n",
    "α =tasa de infección humana = 0.7\n",
    "\n",
    "\n",
    "β =tasa de erradicación Zombies = 0.2 \n",
    "\n",
    "# Variables Iniciales \n",
    "\n",
    "\n",
    "H(0) =7 millones de habitantes\n",
    "\n",
    "\n",
    "Z(0) = 1\n",
    "\n",
    "\n",
    "R(0) = 0\n"
   ]
  },
  {
   "cell_type": "code",
   "execution_count": 3,
   "metadata": {},
   "outputs": [],
   "source": [
    "import matplotlib.pyplot as plt\n",
    "%matplotlib inline\n",
    "from scipy.integrate import odeint\n",
    "import pandas as pd\n",
    "import numpy as np\n",
    "from ipywidgets import interact, interactive, fixed, interact_manual\n",
    "import ipywidgets as widgets\n",
    " "
   ]
  },
  {
   "cell_type": "code",
   "execution_count": 27,
   "metadata": {},
   "outputs": [],
   "source": [
    "b = 0.04\n",
    "d = 0.06\n",
    "r = 0.01\n",
    "K = 10*10**9 \n",
    "alfa = 0.70 \n",
    "beta = 0.20 \n",
    "hzr0 = np.array([7*10**9,1, 0])"
   ]
  },
  {
   "cell_type": "code",
   "execution_count": 28,
   "metadata": {},
   "outputs": [],
   "source": [
    "def Zombies(hzr, t, b, d, r, K, alfa, beta):\n",
    "    H = hzr[0]\n",
    "    Z = hzr[1]\n",
    "    R = hzr[2]\n",
    "    return np.array([\n",
    "                        b*H - (d + (r/K)*H)*H - alfa*H*Z, \n",
    "                        alfa*H*Z - beta*H*Z + (1/2)*(d + (r/K)*H)*H, \n",
    "                        beta*H*Z + (1/2)*(d + (r/K)*H)*H\n",
    "                    ])"
   ]
  },
  {
   "cell_type": "code",
   "execution_count": 29,
   "metadata": {},
   "outputs": [],
   "source": [
    "t = np.linspace(0, 1e-8, 500)\n",
    "p = odeint(Zombies, hzr0, t, args=(b, d, r, K, alfa, beta))\n",
    "H = p[:, 0]\n",
    "Z = p[:, 1]\n",
    "R = p[:, 2]"
   ]
  },
  {
   "cell_type": "code",
   "execution_count": 30,
   "metadata": {},
   "outputs": [
    {
     "data": {
      "image/png": "[encoded data removed]",
      "text/plain": [
       "<Figure size 576x432 with 1 Axes>"
      ]
     },
     "metadata": {
      "needs_background": "light"
     },
     "output_type": "display_data"
    }
   ],
   "source": [
    "plt.figure(figsize=(8,6))\n",
    "plt.plot(t, H, label=\"Población de humanos\")\n",
    "plt.plot(t, Z, label=\"Población de Zombies\")\n",
    "plt.plot(t, R, label=\"Población muertos\")\n",
    "plt.grid()\n",
    "plt.legend(loc=\"best\")\n",
    "plt.show()"
   ]
  },
  {
   "cell_type": "code",
   "execution_count": 19,
   "metadata": {},
   "outputs": [],
   "source": [
    "def ZombiesPunto(t = 0):\n",
    "    t = np.linspace(0, t, 5)\n",
    "    p = odeint(Zombies, hzr0, t, args=(b, d, r, K, alfa, beta))\n",
    "    H = p[:,0]\n",
    "    Z = p[:,1]\n",
    "    R = p[:,2]\n",
    "    plt.figure(figsize=(8,6))\n",
    "    plt.plot(t, H, label=\"Población de humanos\")\n",
    "    plt.plot(t, Z,label=\"Población de Zombies\")\n",
    "    plt.plot(t, R, label=\"Población muertos\")\n",
    "    plt.grid()\n",
    "    plt.legend(loc=\"best\")\n",
    "    plt.show()"
   ]
  },
  {
   "cell_type": "code",
   "execution_count": 20,
   "metadata": {},
   "outputs": [
    {
     "data": {
      "application/vnd.jupyter.widget-view+json": {
       "model_id": "4d2d8fa33ca940b6a78835ec2840885b",
       "version_major": 2,
       "version_minor": 0
      },
      "text/plain": [
       "interactive(children=(FloatSlider(value=0.0, description='t', max=5.0, step=0.01), Button(description='Run Int…"
      ]
     },
     "metadata": {},
     "output_type": "display_data"
    }
   ],
   "source": [
    "interact_manual(ZombiesPunto, t = (0, 5,.01));"
   ]
  }
 ],
 "metadata": {
  "kernelspec": {
   "display_name": "Python 3",
   "language": "python",
   "name": "python3"
  },
  "language_info": {
   "codemirror_mode": {
    "name": "ipython",
    "version": 3
   },
   "file_extension": ".py",
   "mimetype": "text/x-python",
   "name": "python",
   "nbconvert_exporter": "python",
   "pygments_lexer": "ipython3",
   "version": "3.7.1"
  }
 },
 "nbformat": 4,
 "nbformat_minor": 2
}
